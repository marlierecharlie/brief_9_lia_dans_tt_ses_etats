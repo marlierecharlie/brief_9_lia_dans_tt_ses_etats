{
 "cells": [
  {
   "cell_type": "markdown",
   "id": "5f22cecc",
   "metadata": {},
   "source": [
    "# Tutoriel Régression"
   ]
  },
  {
   "cell_type": "markdown",
   "id": "5ea8a5f7",
   "metadata": {},
   "source": [
    "## Problématique étudiée"
   ]
  },
  {
   "cell_type": "markdown",
   "id": "f6980844",
   "metadata": {},
   "source": [
    "La problématique étudiée est le cas avec le dataset california-housing. L'objectif de ce cas est d'estimer le prix d'un bien à partir des paramètres d'entrée donnés dans le dataset.\n",
    "\n",
    "Il s'agit donc d'un cas de **machine learning supervisé**, et plus spécifiquement d'un cas de **régression**.\n",
    "\n",
    "Ce notebook va vous guider à travers ce cas concret de classification, et va utiliser un modèle particulier de machine learning pour réaliser cette tâche : la *régression*. Les parties suivantes sont dédiées à l'implémentation de ce modèle grâce à l'utilisation de la librairie scikit-learn."
   ]
  },
  {
   "cell_type": "markdown",
   "id": "d642c715",
   "metadata": {},
   "source": [
    "## Code"
   ]
  },
  {
   "cell_type": "markdown",
   "id": "04c59108",
   "metadata": {},
   "source": [
    "### Importation des différentes librairies "
   ]
  },
  {
   "cell_type": "code",
   "execution_count": 23,
   "id": "53b06fbc",
   "metadata": {},
   "outputs": [],
   "source": [
    "from sklearn import datasets, metrics\n",
    "from sklearn.datasets import fetch_california_housing\n",
    "import matplotlib.pyplot as plt\n",
    "from sklearn.linear_model import LinearRegression\n",
    "from sklearn.metrics import r2_score\n",
    "from sklearn.metrics import mean_squared_error\n",
    "from sklearn.model_selection import train_test_split\n",
    "import pandas as pd\n",
    "import seaborn as sns\n",
    "import numpy as np\n",
    "%matplotlib inline"
   ]
  },
  {
   "cell_type": "markdown",
   "id": "cddaded3",
   "metadata": {},
   "source": [
    "### Importation du dataset "
   ]
  },
  {
   "cell_type": "markdown",
   "id": "480bee84",
   "metadata": {},
   "source": [
    "La première étape est d'importer le dataset et de voir de quoi il est constitué. Ici on importe le dataset california-houses."
   ]
  },
  {
   "cell_type": "code",
   "execution_count": 24,
   "id": "a1f67855",
   "metadata": {},
   "outputs": [],
   "source": [
    "# Import the california_housing dataset\n",
    "ch = fetch_california_housing(as_frame=True)"
   ]
  },
  {
   "cell_type": "code",
   "execution_count": 25,
   "id": "70f1757a",
   "metadata": {
    "scrolled": true
   },
   "outputs": [
    {
     "data": {
      "text/html": [
       "<div>\n",
       "<style scoped>\n",
       "    .dataframe tbody tr th:only-of-type {\n",
       "        vertical-align: middle;\n",
       "    }\n",
       "\n",
       "    .dataframe tbody tr th {\n",
       "        vertical-align: top;\n",
       "    }\n",
       "\n",
       "    .dataframe thead th {\n",
       "        text-align: right;\n",
       "    }\n",
       "</style>\n",
       "<table border=\"1\" class=\"dataframe\">\n",
       "  <thead>\n",
       "    <tr style=\"text-align: right;\">\n",
       "      <th></th>\n",
       "      <th>MedInc</th>\n",
       "      <th>HouseAge</th>\n",
       "      <th>AveRooms</th>\n",
       "      <th>AveBedrms</th>\n",
       "      <th>Population</th>\n",
       "      <th>AveOccup</th>\n",
       "      <th>Latitude</th>\n",
       "      <th>Longitude</th>\n",
       "      <th>MedHouseVal</th>\n",
       "    </tr>\n",
       "  </thead>\n",
       "  <tbody>\n",
       "    <tr>\n",
       "      <th>0</th>\n",
       "      <td>8.3252</td>\n",
       "      <td>41.0</td>\n",
       "      <td>6.984127</td>\n",
       "      <td>1.023810</td>\n",
       "      <td>322.0</td>\n",
       "      <td>2.555556</td>\n",
       "      <td>37.88</td>\n",
       "      <td>-122.23</td>\n",
       "      <td>4.526</td>\n",
       "    </tr>\n",
       "    <tr>\n",
       "      <th>1</th>\n",
       "      <td>8.3014</td>\n",
       "      <td>21.0</td>\n",
       "      <td>6.238137</td>\n",
       "      <td>0.971880</td>\n",
       "      <td>2401.0</td>\n",
       "      <td>2.109842</td>\n",
       "      <td>37.86</td>\n",
       "      <td>-122.22</td>\n",
       "      <td>3.585</td>\n",
       "    </tr>\n",
       "    <tr>\n",
       "      <th>2</th>\n",
       "      <td>7.2574</td>\n",
       "      <td>52.0</td>\n",
       "      <td>8.288136</td>\n",
       "      <td>1.073446</td>\n",
       "      <td>496.0</td>\n",
       "      <td>2.802260</td>\n",
       "      <td>37.85</td>\n",
       "      <td>-122.24</td>\n",
       "      <td>3.521</td>\n",
       "    </tr>\n",
       "    <tr>\n",
       "      <th>3</th>\n",
       "      <td>5.6431</td>\n",
       "      <td>52.0</td>\n",
       "      <td>5.817352</td>\n",
       "      <td>1.073059</td>\n",
       "      <td>558.0</td>\n",
       "      <td>2.547945</td>\n",
       "      <td>37.85</td>\n",
       "      <td>-122.25</td>\n",
       "      <td>3.413</td>\n",
       "    </tr>\n",
       "    <tr>\n",
       "      <th>4</th>\n",
       "      <td>3.8462</td>\n",
       "      <td>52.0</td>\n",
       "      <td>6.281853</td>\n",
       "      <td>1.081081</td>\n",
       "      <td>565.0</td>\n",
       "      <td>2.181467</td>\n",
       "      <td>37.85</td>\n",
       "      <td>-122.25</td>\n",
       "      <td>3.422</td>\n",
       "    </tr>\n",
       "    <tr>\n",
       "      <th>...</th>\n",
       "      <td>...</td>\n",
       "      <td>...</td>\n",
       "      <td>...</td>\n",
       "      <td>...</td>\n",
       "      <td>...</td>\n",
       "      <td>...</td>\n",
       "      <td>...</td>\n",
       "      <td>...</td>\n",
       "      <td>...</td>\n",
       "    </tr>\n",
       "    <tr>\n",
       "      <th>20635</th>\n",
       "      <td>1.5603</td>\n",
       "      <td>25.0</td>\n",
       "      <td>5.045455</td>\n",
       "      <td>1.133333</td>\n",
       "      <td>845.0</td>\n",
       "      <td>2.560606</td>\n",
       "      <td>39.48</td>\n",
       "      <td>-121.09</td>\n",
       "      <td>0.781</td>\n",
       "    </tr>\n",
       "    <tr>\n",
       "      <th>20636</th>\n",
       "      <td>2.5568</td>\n",
       "      <td>18.0</td>\n",
       "      <td>6.114035</td>\n",
       "      <td>1.315789</td>\n",
       "      <td>356.0</td>\n",
       "      <td>3.122807</td>\n",
       "      <td>39.49</td>\n",
       "      <td>-121.21</td>\n",
       "      <td>0.771</td>\n",
       "    </tr>\n",
       "    <tr>\n",
       "      <th>20637</th>\n",
       "      <td>1.7000</td>\n",
       "      <td>17.0</td>\n",
       "      <td>5.205543</td>\n",
       "      <td>1.120092</td>\n",
       "      <td>1007.0</td>\n",
       "      <td>2.325635</td>\n",
       "      <td>39.43</td>\n",
       "      <td>-121.22</td>\n",
       "      <td>0.923</td>\n",
       "    </tr>\n",
       "    <tr>\n",
       "      <th>20638</th>\n",
       "      <td>1.8672</td>\n",
       "      <td>18.0</td>\n",
       "      <td>5.329513</td>\n",
       "      <td>1.171920</td>\n",
       "      <td>741.0</td>\n",
       "      <td>2.123209</td>\n",
       "      <td>39.43</td>\n",
       "      <td>-121.32</td>\n",
       "      <td>0.847</td>\n",
       "    </tr>\n",
       "    <tr>\n",
       "      <th>20639</th>\n",
       "      <td>2.3886</td>\n",
       "      <td>16.0</td>\n",
       "      <td>5.254717</td>\n",
       "      <td>1.162264</td>\n",
       "      <td>1387.0</td>\n",
       "      <td>2.616981</td>\n",
       "      <td>39.37</td>\n",
       "      <td>-121.24</td>\n",
       "      <td>0.894</td>\n",
       "    </tr>\n",
       "  </tbody>\n",
       "</table>\n",
       "<p>20640 rows × 9 columns</p>\n",
       "</div>"
      ],
      "text/plain": [
       "       MedInc  HouseAge  AveRooms  AveBedrms  Population  AveOccup  Latitude  \\\n",
       "0      8.3252      41.0  6.984127   1.023810       322.0  2.555556     37.88   \n",
       "1      8.3014      21.0  6.238137   0.971880      2401.0  2.109842     37.86   \n",
       "2      7.2574      52.0  8.288136   1.073446       496.0  2.802260     37.85   \n",
       "3      5.6431      52.0  5.817352   1.073059       558.0  2.547945     37.85   \n",
       "4      3.8462      52.0  6.281853   1.081081       565.0  2.181467     37.85   \n",
       "...       ...       ...       ...        ...         ...       ...       ...   \n",
       "20635  1.5603      25.0  5.045455   1.133333       845.0  2.560606     39.48   \n",
       "20636  2.5568      18.0  6.114035   1.315789       356.0  3.122807     39.49   \n",
       "20637  1.7000      17.0  5.205543   1.120092      1007.0  2.325635     39.43   \n",
       "20638  1.8672      18.0  5.329513   1.171920       741.0  2.123209     39.43   \n",
       "20639  2.3886      16.0  5.254717   1.162264      1387.0  2.616981     39.37   \n",
       "\n",
       "       Longitude  MedHouseVal  \n",
       "0        -122.23        4.526  \n",
       "1        -122.22        3.585  \n",
       "2        -122.24        3.521  \n",
       "3        -122.25        3.413  \n",
       "4        -122.25        3.422  \n",
       "...          ...          ...  \n",
       "20635    -121.09        0.781  \n",
       "20636    -121.21        0.771  \n",
       "20637    -121.22        0.923  \n",
       "20638    -121.32        0.847  \n",
       "20639    -121.24        0.894  \n",
       "\n",
       "[20640 rows x 9 columns]"
      ]
     },
     "execution_count": 25,
     "metadata": {},
     "output_type": "execute_result"
    }
   ],
   "source": [
    "# Dataset description\n",
    "# on peut utiliser .frame pour avoir le dataset correctement présenté \n",
    "ch.frame"
   ]
  },
  {
   "cell_type": "code",
   "execution_count": 26,
   "id": "555f01d9",
   "metadata": {},
   "outputs": [
    {
     "name": "stdout",
     "output_type": "stream",
     "text": [
      ".. _california_housing_dataset:\n",
      "\n",
      "California Housing dataset\n",
      "--------------------------\n",
      "\n",
      "**Data Set Characteristics:**\n",
      "\n",
      "    :Number of Instances: 20640\n",
      "\n",
      "    :Number of Attributes: 8 numeric, predictive attributes and the target\n",
      "\n",
      "    :Attribute Information:\n",
      "        - MedInc        median income in block group\n",
      "        - HouseAge      median house age in block group\n",
      "        - AveRooms      average number of rooms per household\n",
      "        - AveBedrms     average number of bedrooms per household\n",
      "        - Population    block group population\n",
      "        - AveOccup      average number of household members\n",
      "        - Latitude      block group latitude\n",
      "        - Longitude     block group longitude\n",
      "\n",
      "    :Missing Attribute Values: None\n",
      "\n",
      "This dataset was obtained from the StatLib repository.\n",
      "https://www.dcc.fc.up.pt/~ltorgo/Regression/cal_housing.html\n",
      "\n",
      "The target variable is the median house value for California districts,\n",
      "expressed in hundreds of thousands of dollars ($100,000).\n",
      "\n",
      "This dataset was derived from the 1990 U.S. census, using one row per census\n",
      "block group. A block group is the smallest geographical unit for which the U.S.\n",
      "Census Bureau publishes sample data (a block group typically has a population\n",
      "of 600 to 3,000 people).\n",
      "\n",
      "An household is a group of people residing within a home. Since the average\n",
      "number of rooms and bedrooms in this dataset are provided per household, these\n",
      "columns may take surpinsingly large values for block groups with few households\n",
      "and many empty houses, such as vacation resorts.\n",
      "\n",
      "It can be downloaded/loaded using the\n",
      ":func:`sklearn.datasets.fetch_california_housing` function.\n",
      "\n",
      ".. topic:: References\n",
      "\n",
      "    - Pace, R. Kelley and Ronald Barry, Sparse Spatial Autoregressions,\n",
      "      Statistics and Probability Letters, 33 (1997) 291-297\n",
      "\n"
     ]
    }
   ],
   "source": [
    "print(ch.DESCR)"
   ]
  },
  {
   "cell_type": "markdown",
   "id": "12b5d313",
   "metadata": {},
   "source": [
    "On voit grâce à la description détaillée qu'il s'agit d'un dataset de 20 640 instances, sans données manquantes. Le set contient les données à tester mais aussi les données de \"target\" afin de vérifier nos résultats. \n",
    "\n",
    "Pour les 20 640 instances, il y a à chaques fois 8 variables : \n",
    "\n",
    "-\"MedInc\" : correspond au revenu médian des habitants du bloc d'appartements\n",
    "\n",
    "-\"HouseAge\" : est l'age médian des habitants du bloc\n",
    "\n",
    "-\"AveRooms\" : nombre moyen de pièces par foyers\n",
    "\n",
    "-\"AveBedrms\" : nombre moyen de chambres par foyers\n",
    "\n",
    "-\"Population\" : la population par bloc d'appartements\n",
    "\n",
    "-\"AveOccup\" : le nombre moyen d'occupants par foyers     \n",
    "\n",
    "-\"Latitude\" : la latitude\n",
    "\n",
    "-\"Longitude\" : la longitude\n",
    "\n",
    "-et enfin la \"median house value\", c'est notre valeur d'étalonnage. Elle est notée en centaines de millier de ($100,000)."
   ]
  },
  {
   "cell_type": "markdown",
   "id": "0aae0233",
   "metadata": {},
   "source": [
    "<!-- Essayons de trouver quelles données sont corrélées les unes aux autres fin de simplifier notre future modèle de régression :  -->"
   ]
  },
  {
   "cell_type": "markdown",
   "id": "4b205849",
   "metadata": {},
   "source": [
    "### Choix des données"
   ]
  },
  {
   "cell_type": "markdown",
   "id": "3b1e6340",
   "metadata": {},
   "source": [
    "Pour faire une bonne régression linéaire, il est crucial de bien choisir ses variables,\n",
    "c'est à dire de prendre des variables faiblement corrélées les unes au autres afin qu'elles ne s'allimentent pas entre elles. \n",
    "Nous allons donc faire une heatmap dans un premier temps. "
   ]
  },
  {
   "cell_type": "code",
   "execution_count": 36,
   "id": "be207df6",
   "metadata": {},
   "outputs": [
    {
     "data": {
      "text/plain": [
       "[Text(0.5, 1.0, 'correlation matrice california house dataset')]"
      ]
     },
     "execution_count": 36,
     "metadata": {},
     "output_type": "execute_result"
    },
    {
     "data": {
      "image/png": "[encoded data removed]",
      "text/plain": [
       "<Figure size 432x288 with 2 Axes>"
      ]
     },
     "metadata": {
      "needs_background": "light"
     },
     "output_type": "display_data"
    }
   ],
   "source": [
    "matrice_corr = ch.frame.corr().round(1)\n",
    "sns.heatmap(data=matrice_corr, annot=True).set(title=\"correlation matrice california house dataset\")"
   ]
  },
  {
   "cell_type": "markdown",
   "id": "6a5d4cc6",
   "metadata": {},
   "source": [
    "Il faut sélectionner des variables qui sont faiblement corrélées entre elles et fortement corrélées avec la variable cible.\n",
    "Ici la seule variable fortement corrélée est MedInc. Ce n'est pas l'usage mais nous allons faire une régression linéaire \n",
    "avec seulement ce paramètre. "
   ]
  },
  {
   "cell_type": "markdown",
   "id": "a1e486e6",
   "metadata": {},
   "source": [
    "### Phase d'apprentissage du modèle"
   ]
  },
  {
   "cell_type": "markdown",
   "id": "64ce9bf9",
   "metadata": {},
   "source": [
    "La première étape lors de l'utilisation d'une méthode d'apprentissage supervisée, c'est l'apprentissage. Dans cette étape, nous allons construire notre modèle en lui donnant un certain nombre d'exemples depuis notre base de données. La règle de base lors de cette étape est de séparer la base de données en deux : une partie pour l'apprentissage et une partie pour le test. Ceci afin de ne pas montrer lors de la phase de test des exemples de chiffres qui auraient servis lors de la phase d'apprentissage, car alors le test serait biaisé.\n",
    "\n",
    "Mais pour pouvoir apprendre un modèle, ce dernier a besoin de *features*, c'est-à-dire des nombres en entrée, servant à décrire nos images dans un *langage* compris par la machine."
   ]
  },
  {
   "cell_type": "code",
   "execution_count": 28,
   "id": "b6ef8c2b",
   "metadata": {},
   "outputs": [
    {
     "name": "stderr",
     "output_type": "stream",
     "text": [
      "C:\\Users\\utilisateur\\AppData\\Local\\Temp\\ipykernel_6864\\1228757043.py:9: FutureWarning: Support for multi-dimensional indexing (e.g. `obj[:, None]`) is deprecated and will be removed in a future version.  Convert to a numpy array before indexing instead.\n",
      "  X=X[:,np.newaxis]\n",
      "C:\\Users\\utilisateur\\AppData\\Local\\Temp\\ipykernel_6864\\1228757043.py:10: FutureWarning: Support for multi-dimensional indexing (e.g. `obj[:, None]`) is deprecated and will be removed in a future version.  Convert to a numpy array before indexing instead.\n",
      "  Y=Y[:,np.newaxis]\n"
     ]
    },
    {
     "data": {
      "text/plain": [
       "(20640, 1)"
      ]
     },
     "execution_count": 28,
     "metadata": {},
     "output_type": "execute_result"
    }
   ],
   "source": [
    "#on utilise seulement 1 variables explicative\n",
    "# le jeux données et nommé data donc pour l'appeller je demande .data \n",
    "# la valeur target est nomée tagret et n'est pas dans les 'data', pour l'appeler je fais \"target\"\n",
    "X = ch.data['MedInc']\n",
    "Y = ch.target\n",
    "\n",
    "# en python, un tableau doit avoir une dimension, il faut donc lui attribuer un nouvel axe car un enchênement de lignes \n",
    "# n'est pas forcément une colone \n",
    "X=X[:,np.newaxis]\n",
    "Y=Y[:,np.newaxis]\n",
    "\n",
    "Y.shape"
   ]
  },
  {
   "cell_type": "markdown",
   "id": "0f256fd6",
   "metadata": {},
   "source": [
    "Puis, nous divisons notre jeu de données d'entrée en deux sous-ensembles, afin de constituer nos jeux de données d'apprentissage (constitué ici de 70 % des données de départ), et de test (30 % des données de départ)."
   ]
  },
  {
   "cell_type": "code",
   "execution_count": 29,
   "id": "db0fb1d9",
   "metadata": {},
   "outputs": [
    {
     "name": "stdout",
     "output_type": "stream",
     "text": [
      "(14448, 1)\n",
      "(6192, 1)\n",
      "(14448, 1)\n",
      "(6192, 1)\n"
     ]
    }
   ],
   "source": [
    "# Split data with 70% to train and 30% to test\n",
    " \n",
    "X_train, X_test, Y_train, Y_test = train_test_split(X, Y, test_size = 0.3, random_state=5)\n",
    "print(X_train.shape)\n",
    "print(X_test.shape)\n",
    "print(Y_train.shape)\n",
    "print(Y_test.shape)"
   ]
  },
  {
   "cell_type": "markdown",
   "id": "0135c1ca",
   "metadata": {},
   "source": [
    "Puis nous choisissons le modèle à mettre en place, nous l'apprenons, et nous le testons dans la foulée :"
   ]
  },
  {
   "cell_type": "code",
   "execution_count": 30,
   "id": "6366608b",
   "metadata": {},
   "outputs": [
    {
     "data": {
      "text/plain": [
       "LinearRegression()"
      ]
     },
     "execution_count": 30,
     "metadata": {},
     "output_type": "execute_result"
    }
   ],
   "source": [
    "lmodellineaire = LinearRegression()\n",
    "lmodellineaire.fit(X_train, Y_train)"
   ]
  },
  {
   "cell_type": "code",
   "execution_count": 34,
   "id": "cf3ee684",
   "metadata": {},
   "outputs": [
    {
     "data": {
      "image/png": "[encoded data removed]",
      "text/plain": [
       "<Figure size 432x288 with 1 Axes>"
      ]
     },
     "metadata": {
      "needs_background": "light"
     },
     "output_type": "display_data"
    }
   ],
   "source": [
    "y_predicted = lmodellineaire.predict(X_train)\n",
    "\n",
    "\n",
    "\n",
    "# tracer le graphique\n",
    "plt.scatter(X_train,Y_train)\n",
    "# régression\n",
    "plt.plot(X_train, y_predicted, color='r' )\n",
    "plt.xlabel(\"MedInc (train)\")\n",
    "plt.ylabel(\"MedHouseVal (train)\")\n",
    "plt.title (\"Régression linéaire du prix des maisons en fonction du revenu moyen des habitants\")\n",
    "plt.show()"
   ]
  },
  {
   "cell_type": "markdown",
   "id": "854ae01b",
   "metadata": {},
   "source": [
    "Sur ce schéma, on voit que beaucoup de points sont au dessus de la droite et que quelques points sont en dessous avec une dispersion forte. On notre aussi que le prix des maisons est globallement plafoné à 5000 000 dollars globalement. Cependant,  la graduation continue, il serait donc intéressant de regarder si il n'y a pas des maisons avec un prix plus élevé et si celui-ci est cohérent. "
   ]
  },
  {
   "cell_type": "markdown",
   "id": "5ac62341",
   "metadata": {},
   "source": [
    "### Vérification des résultats pour valider le modèle "
   ]
  },
  {
   "cell_type": "markdown",
   "id": "1ca4b2eb",
   "metadata": {},
   "source": [
    "Une étape essentielle après l'apprentissage et le test d'un modèle de machine learning est l'analyse de ses performances afin de valider s'il fonctionne ou non. Pour ce faire, nous utilisons la RMSE et le R2."
   ]
  },
  {
   "cell_type": "code",
   "execution_count": null,
   "id": "855b8e44",
   "metadata": {},
   "outputs": [],
   "source": [
    "# Evaluation du training set\n",
    "\n",
    "y_train_predict = lmodellineaire.predict(X_train)\n",
    "rmse = (mean_squared_error(Y_train, y_train_predict))\n",
    "r2 = r2_score(Y_train, y_train_predict)\n",
    "\n",
    "print('La performance du modèle sur la base dapprentissage')\n",
    "print('--------------------------------------')\n",
    "print('Lerreur quadratique moyenne est {}'.format(rmse))\n",
    "print('le score R2 est {}'.format(r2))\n",
    "print('\\n')\n",
    " \n",
    "# model evaluation for testing set\n",
    "y_test_predict = lmodellineaire.predict(X_test)\n",
    "rmse = (np.sqrt(mean_squared_error(Y_test, y_test_predict)))\n",
    "r2 = r2_score(Y_test, y_test_predict)\n",
    " \n",
    "print('La performance du modèle sur la base de test')\n",
    "print('--------------------------------------')\n",
    "print('Lerreur quadratique moyenne est {}'.format(rmse))\n",
    "print('le score R2 est {}'.format(r2))"
   ]
  },
  {
   "cell_type": "markdown",
   "id": "fc77fccd",
   "metadata": {},
   "source": [
    "Le RMSE ou *Root Mean Squared Error* s’exprime dans la même unité que la variable à prédire. Plus elle est élevée, moins le modèle est performant. Ici le modèle est précis à envirron 0.83, c'est à dire qu'il est précis à 83 000 dollars près.Il serait intéressant de le tester avec plus de variables et de voir si la précision s'améliore. "
   ]
  },
  {
   "cell_type": "markdown",
   "id": "0642a259",
   "metadata": {},
   "source": [
    "Le R2 ou *coefficient de determination* est la somme des distances au carré entre chaque observation et la\n",
    "droite de régression (autrement dit, la valeur prédite). Plus il est proche de **1**, meilleure est la prédiction.\n",
    "Ici les résultats obtenus sont sensiblement identiques mais assez bas, il serait judicieux de rajouter des variables d'apprentissage. \n",
    "Il est encorageant que le R2 de test soit légerement supérieur mais sensiblement similaire au R2 d'apprentissage."
   ]
  },
  {
   "cell_type": "markdown",
   "id": "f03bdbee",
   "metadata": {},
   "source": [
    "#### Ceci conclut notre tutoriel, et sentez-vous libre de jouer avec les paramètres du modèle pour mieux le comprendre !"
   ]
  }
 ],
 "metadata": {
  "kernelspec": {
   "display_name": "Python 3 (ipykernel)",
   "language": "python",
   "name": "python3"
  },
  "language_info": {
   "codemirror_mode": {
    "name": "ipython",
    "version": 3
   },
   "file_extension": ".py",
   "mimetype": "text/x-python",
   "name": "python",
   "nbconvert_exporter": "python",
   "pygments_lexer": "ipython3",
   "version": "3.9.12"
  }
 },
 "nbformat": 4,
 "nbformat_minor": 5
}
