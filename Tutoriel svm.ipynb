{
 "cells": [
  {
   "cell_type": "markdown",
   "id": "5f22cecc",
   "metadata": {},
   "source": [
    "# Tutoriel d'exemple de résolution d'un problème de machine learning"
   ]
  },
  {
   "cell_type": "markdown",
   "id": "5ea8a5f7",
   "metadata": {},
   "source": [
    "## Problématique étudiée"
   ]
  },
  {
   "cell_type": "markdown",
   "id": "f6980844",
   "metadata": {},
   "source": [
    "La problématique étudiée est le cas avec le dataset hand-written digits. L'objectif de ce cas est de reconnaître des chiffres annotés à la main à partir d'une base de données disponible.\n",
    "\n",
    "Il s'agit donc d'un cas de **machine learning supervisé**, et plus spécifiquement d'un cas de **classification**.\n",
    "\n",
    "Ce notebook va vous guider à travers ce cas concret de classification, et va utiliser un modèle particulier de machine learning pour réaliser cette tâche : le *SVM* (ou *Support Vector Machines* en anglais). Les parties suivantes sont dédiées à l'implémentation de ce modèle grâce à l'utilisation de la librairie scikit-learn."
   ]
  },
  {
   "cell_type": "markdown",
   "id": "d642c715",
   "metadata": {},
   "source": [
    "## Code"
   ]
  },
  {
   "cell_type": "markdown",
   "id": "04c59108",
   "metadata": {},
   "source": [
    "### Importation des différentes librairies "
   ]
  },
  {
   "cell_type": "code",
   "execution_count": 27,
   "id": "53b06fbc",
   "metadata": {},
   "outputs": [],
   "source": [
    "from sklearn import datasets, metrics\n",
    "import matplotlib.pyplot as plt\n",
    "from sklearn import svm, datasets\n",
    "from sklearn.model_selection import train_test_split\n",
    "from sklearn.svm import SVC"
   ]
  },
  {
   "cell_type": "markdown",
   "id": "cddaded3",
   "metadata": {},
   "source": [
    "### Importation du dataset "
   ]
  },
  {
   "cell_type": "markdown",
   "id": "480bee84",
   "metadata": {},
   "source": [
    "La première étape est d'importer le dataset et de voir de quoi il est constitué. Ici on importe le dataset hand-written digits."
   ]
  },
  {
   "cell_type": "code",
   "execution_count": 16,
   "id": "a1f67855",
   "metadata": {},
   "outputs": [],
   "source": [
    "# Import the hand-written digits dataset\n",
    "digits = datasets.load_digits()"
   ]
  },
  {
   "cell_type": "code",
   "execution_count": 17,
   "id": "223309a1",
   "metadata": {},
   "outputs": [
    {
     "data": {
      "text/plain": [
       "\".. _digits_dataset:\\n\\nOptical recognition of handwritten digits dataset\\n--------------------------------------------------\\n\\n**Data Set Characteristics:**\\n\\n    :Number of Instances: 1797\\n    :Number of Attributes: 64\\n    :Attribute Information: 8x8 image of integer pixels in the range 0..16.\\n    :Missing Attribute Values: None\\n    :Creator: E. Alpaydin (alpaydin '@' boun.edu.tr)\\n    :Date: July; 1998\\n\\nThis is a copy of the test set of the UCI ML hand-written digits datasets\\nhttps://archive.ics.uci.edu/ml/datasets/Optical+Recognition+of+Handwritten+Digits\\n\\nThe data set contains images of hand-written digits: 10 classes where\\neach class refers to a digit.\\n\\nPreprocessing programs made available by NIST were used to extract\\nnormalized bitmaps of handwritten digits from a preprinted form. From a\\ntotal of 43 people, 30 contributed to the training set and different 13\\nto the test set. 32x32 bitmaps are divided into nonoverlapping blocks of\\n4x4 and the number of on pixels are counted in each block. This generates\\nan input matrix of 8x8 where each element is an integer in the range\\n0..16. This reduces dimensionality and gives invariance to small\\ndistortions.\\n\\nFor info on NIST preprocessing routines, see M. D. Garris, J. L. Blue, G.\\nT. Candela, D. L. Dimmick, J. Geist, P. J. Grother, S. A. Janet, and C.\\nL. Wilson, NIST Form-Based Handprint Recognition System, NISTIR 5469,\\n1994.\\n\\n.. topic:: References\\n\\n  - C. Kaynak (1995) Methods of Combining Multiple Classifiers and Their\\n    Applications to Handwritten Digit Recognition, MSc Thesis, Institute of\\n    Graduate Studies in Science and Engineering, Bogazici University.\\n  - E. Alpaydin, C. Kaynak (1998) Cascading Classifiers, Kybernetika.\\n  - Ken Tang and Ponnuthurai N. Suganthan and Xi Yao and A. Kai Qin.\\n    Linear dimensionalityreduction using relevance weighted LDA. School of\\n    Electrical and Electronic Engineering Nanyang Technological University.\\n    2005.\\n  - Claudio Gentile. A New Approximate Maximal Margin Classification\\n    Algorithm. NIPS. 2000.\\n\""
      ]
     },
     "execution_count": 17,
     "metadata": {},
     "output_type": "execute_result"
    }
   ],
   "source": [
    "# Dataset description\n",
    "digits.DESCR"
   ]
  },
  {
   "cell_type": "markdown",
   "id": "60883d05",
   "metadata": {},
   "source": [
    "On voit grâce à la description détaillée qu'il s'agit d'un dataset qui cherche à faire de la reconnaissance optique de chiffres écrits à la main (grâce au titre), puis qu'il contient 1797 exemples de chiffres, avec 64 *attributes* par chiffre. Il se trouve que l'on comprend ensuite que ces *attributes* sont directement le nombre de pixels que contient chacune des 1797 images disponibles, chacune représentant un nombre entre 0 et 9 (c'est la partie *attribute information* qui nous renseigne là-dessus). \n",
    "\n",
    "Nous sommes donc en possession de 1797 images de 8x8 pixels qui représentent des chiffres de 0 à 9.\n",
    "\n",
    "Pour s'en assurer nous représentons quelques-uns de ces chiffres :"
   ]
  },
  {
   "cell_type": "code",
   "execution_count": 18,
   "id": "5e836736",
   "metadata": {},
   "outputs": [
    {
     "data": {
      "image/png": "[encoded data removed]",
      "text/plain": [
       "<Figure size 720x216 with 4 Axes>"
      ]
     },
     "metadata": {
      "needs_background": "light"
     },
     "output_type": "display_data"
    }
   ],
   "source": [
    "# Plot some data to show what they look like\n",
    "fig, axes = plt.subplots(nrows=1, ncols=4, figsize=(10, 3))\n",
    "for ax, image, label in zip(axes, digits.images, digits.target):\n",
    "    ax.set_axis_off()\n",
    "    ax.imshow(image, cmap=plt.cm.gray_r, interpolation=\"nearest\")\n",
    "    ax.set_title(\"Training: %i\" % label)"
   ]
  },
  {
   "cell_type": "markdown",
   "id": "a1e486e6",
   "metadata": {},
   "source": [
    "### Phase d'apprentissage du modèle"
   ]
  },
  {
   "cell_type": "markdown",
   "id": "64ce9bf9",
   "metadata": {},
   "source": [
    "La première étape lors de l'utilisation d'une méthode d'apprentissage supervisée, c'est l'apprentissage. Dans cette étape, nous allons construire notre modèle en lui donnant un certain nombre d'exemples depuis notre base de données. La règle de base lors de cette étape est de séparer la base de données en deux : une partie pour l'apprentissage et une partie pour le test. Ceci afin de ne pas montrer lors de la phase de test des exemples de chiffres qui auraient servis lors de la phase d'apprentissage, car alors le test serait biaisé.\n",
    "\n",
    "Mais pour pouvoir apprendre un modèle, ce dernier a besoin de *features*, c'est-à-dire des nombres en entrée, servant à décrire nos images dans un *langage* compris par la machine. En traitement d'images, la solution la plus simple pour produire ces *features* consiste à *vectoriser* l'image, c'est-à-dire passer l'image 8x8 sous forme d'un vecteur de taille 64, dont chaque ligne représente la valeur d'un pixel en niveau de gris. C'est ce que nous faisons juste en-dessous :"
   ]
  },
  {
   "cell_type": "code",
   "execution_count": 19,
   "id": "b6ef8c2b",
   "metadata": {},
   "outputs": [
    {
     "name": "stdout",
     "output_type": "stream",
     "text": [
      "Taille avant vectorisation : (1797, 8, 8)\n",
      "Taille après vectorisation : (1797, 64)\n"
     ]
    }
   ],
   "source": [
    "# Vectorize the images to have \n",
    "n_samples = len(digits.images)\n",
    "data = digits.images.reshape((n_samples, -1))\n",
    "\n",
    "# Print data shape to understand with what we work\n",
    "print(\"Taille avant vectorisation : {}\\nTaille après vectorisation : {}\".format(digits.images.shape, data.shape))"
   ]
  },
  {
   "cell_type": "markdown",
   "id": "0f256fd6",
   "metadata": {},
   "source": [
    "Puis, nous divisons notre jeu de données d'entrée en deux sous-ensembles, afin de constituer nos jeux de données d'apprentissage (constitué ici de 70 % des données de départ), et de test (30 % des données de départ)."
   ]
  },
  {
   "cell_type": "code",
   "execution_count": 20,
   "id": "db0fb1d9",
   "metadata": {},
   "outputs": [],
   "source": [
    "# Split data with 70% to train and 30% to test\n",
    "X_train, X_test, y_train, y_test = train_test_split(\n",
    "    data, digits.target, test_size=0.3, shuffle=False\n",
    ")"
   ]
  },
  {
   "cell_type": "markdown",
   "id": "0135c1ca",
   "metadata": {},
   "source": [
    "Puis nous choisissons le modèle à mettre en place, nous l'apprenons, et nous le testons dans la foulée :"
   ]
  },
  {
   "cell_type": "code",
   "execution_count": 21,
   "id": "6366608b",
   "metadata": {},
   "outputs": [],
   "source": [
    "# Create a svm classifier\n",
    "classifier = SVC(kernel = 'linear', random_state = 0)\n",
    "\n",
    "# Learn the digits on the train subset\n",
    "classifier.fit(X_train, y_train)\n",
    "\n",
    "#Prediction sur le Test set\n",
    "y_pred = classifier.predict(X_test)"
   ]
  },
  {
   "cell_type": "markdown",
   "id": "511eea8d",
   "metadata": {},
   "source": [
    "Enfin, nous regardons quelques résultats de prédiction, pour voir de manière qualitative si le modèle semble bien fonctionner."
   ]
  },
  {
   "cell_type": "code",
   "execution_count": 23,
   "id": "19cd8c69",
   "metadata": {},
   "outputs": [
    {
     "data": {
      "image/png": "[encoded data removed]",
      "text/plain": [
       "<Figure size 720x216 with 4 Axes>"
      ]
     },
     "metadata": {
      "needs_background": "light"
     },
     "output_type": "display_data"
    }
   ],
   "source": [
    "# Plot some predictions\n",
    "fig, axes = plt.subplots(nrows=1, ncols=4, figsize=(10, 3))\n",
    "for ax, image, prediction in zip(axes, X_test, y_pred):\n",
    "    ax.set_axis_off()\n",
    "    image = image.reshape(8, 8)\n",
    "    ax.imshow(image, cmap=plt.cm.gray_r, interpolation=\"nearest\")\n",
    "    ax.set_title(f\"Prediction: {prediction}\")"
   ]
  },
  {
   "cell_type": "markdown",
   "id": "5ac62341",
   "metadata": {},
   "source": [
    "### Vérification des résultats pour valider le modèle "
   ]
  },
  {
   "cell_type": "markdown",
   "id": "1ca4b2eb",
   "metadata": {},
   "source": [
    "Une étape essentielle après l'apprentissage et le test d'un modèle de machine learning est l'analyse de ses performances afin de valider s'il fonctionne ou non. Pour ce faire, nous utilisons différentes métriques, dont nous vous invitons à aller chercher les définitions en ligne : la précision, le recall, et le f1-score.\n",
    "Ces métriques doivent toutes tendre vers 1 lorsque le modèle fonctionne bien."
   ]
  },
  {
   "cell_type": "code",
   "execution_count": 25,
   "id": "855b8e44",
   "metadata": {},
   "outputs": [
    {
     "name": "stdout",
     "output_type": "stream",
     "text": [
      "Classification report for classifier SVC(kernel='linear', random_state=0):\n",
      "              precision    recall  f1-score   support\n",
      "\n",
      "           0       0.96      0.98      0.97        53\n",
      "           1       0.92      0.91      0.91        53\n",
      "           2       1.00      0.96      0.98        53\n",
      "           3       0.90      0.85      0.87        53\n",
      "           4       0.98      0.93      0.95        57\n",
      "           5       0.95      0.98      0.96        56\n",
      "           6       0.96      0.98      0.97        54\n",
      "           7       0.96      0.96      0.96        54\n",
      "           8       0.82      0.87      0.84        52\n",
      "           9       0.88      0.91      0.89        55\n",
      "\n",
      "    accuracy                           0.93       540\n",
      "   macro avg       0.93      0.93      0.93       540\n",
      "weighted avg       0.93      0.93      0.93       540\n",
      "\n",
      "\n"
     ]
    }
   ],
   "source": [
    "# Print the results on the test set for each class from 0 to 9\n",
    "print(\n",
    "    f\"Classification report for classifier {classifier}:\\n\"\n",
    "    f\"{metrics.classification_report(y_test, y_pred)}\\n\"\n",
    ")"
   ]
  },
  {
   "cell_type": "markdown",
   "id": "fc77fccd",
   "metadata": {},
   "source": [
    "On constate que les résultats sont globalement corrects.\n",
    "Il est intéressant de voir que le nombre d'images testées par classe est à peu près égal, ce qui assure une bonne représentativité de chaque classe dans les résultats (on parle de problème équilibré). Il est important de s'assurer de cet équilibre dès la phase d'apprentissage pour être certain de ne pas biaiser l'apprentissage de certaines classes (une classe sous-représentée pourrait être très peu prédite en pratique). \n",
    "On retrouve bien ici que 540 images en test représentent eniron 30 % de 1764 images du jeu de données complet, ce qui est cohérent.\n",
    "\n",
    "Pour analyser plus finement les résultats, on représente enuite la matrice de confusion, qui montre pour chaque classe le nombre de bonnes et mauvaises classification, et ce de manière croisée pour savoir dans quelles classes ont été prédites les erreurs de classification :"
   ]
  },
  {
   "cell_type": "code",
   "execution_count": 28,
   "id": "63f518c2",
   "metadata": {},
   "outputs": [
    {
     "name": "stdout",
     "output_type": "stream",
     "text": [
      "Confusion matrix:\n",
      "[[52  0  0  0  0  0  1  0  0  0]\n",
      " [ 0 48  0  0  0  0  0  0  1  4]\n",
      " [ 1  0 51  1  0  0  0  0  0  0]\n",
      " [ 0  0  0 45  0  1  0  0  7  0]\n",
      " [ 1  0  0  0 53  0  0  0  1  2]\n",
      " [ 0  0  0  0  0 55  1  0  0  0]\n",
      " [ 0  1  0  0  0  0 53  0  0  0]\n",
      " [ 0  1  0  0  0  0  0 52  0  1]\n",
      " [ 0  2  0  3  1  0  0  1 45  0]\n",
      " [ 0  0  0  1  0  2  0  1  1 50]]\n"
     ]
    },
    {
     "data": {
      "image/png": "[encoded data removed]",
      "text/plain": [
       "<Figure size 432x288 with 2 Axes>"
      ]
     },
     "metadata": {
      "needs_background": "light"
     },
     "output_type": "display_data"
    }
   ],
   "source": [
    "# Plot the confusion matrix\n",
    "disp = metrics.ConfusionMatrixDisplay.from_predictions(y_test, y_pred)\n",
    "disp.figure_.suptitle(\"Confusion Matrix\")\n",
    "print(f\"Confusion matrix:\\n{disp.confusion_matrix}\")"
   ]
  },
  {
   "cell_type": "markdown",
   "id": "778b1aa8",
   "metadata": {},
   "source": [
    "On remarque alors que les erreurs observés au global pour la classe 3 se concentrent dans la classe 8, et une analyse plus approfondie peut alors être menée pour déterminer pourquoi ces erreurs se font spécifiquement sur ces classes-là."
   ]
  },
  {
   "cell_type": "markdown",
   "id": "f03bdbee",
   "metadata": {},
   "source": [
    "#### Ceci conclut notre tutoriel, et sentez-vous libre de jouer avec les paramètres du modèle pour mieux le comprendre !"
   ]
  }
 ],
 "metadata": {
  "kernelspec": {
   "display_name": "Python 3 (ipykernel)",
   "language": "python",
   "name": "python3"
  },
  "language_info": {
   "codemirror_mode": {
    "name": "ipython",
    "version": 3
   },
   "file_extension": ".py",
   "mimetype": "text/x-python",
   "name": "python",
   "nbconvert_exporter": "python",
   "pygments_lexer": "ipython3",
   "version": "3.9.12"
  }
 },
 "nbformat": 4,
 "nbformat_minor": 5
}
